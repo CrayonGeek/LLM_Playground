{
 "cells": [
  {
   "cell_type": "markdown",
   "id": "ddcbf510",
   "metadata": {},
   "source": [
    "### MARKDOWN\n"
   ]
  },
  {
   "cell_type": "code",
   "execution_count": 26,
   "id": "5ae7601d",
   "metadata": {},
   "outputs": [],
   "source": [
    "# 테이블 설정 로드\n",
    "from omegaconf import OmegaConf\n",
    "config = OmegaConf.load(\"config/credentials.yml\")"
   ]
  },
  {
   "cell_type": "code",
   "execution_count": 2,
   "id": "e9a607a4-c0aa-4117-8a76-616b70d95c66",
   "metadata": {},
   "outputs": [],
   "source": [
    "#\n",
    "from transformers import pipeline\n",
    "classifier = pipeline('zero-shot-classification', model='facebook/bart-large-mnli')\n",
    "\n",
    "labels = ['spam', 'not spam']\n",
    "hypothesis_template = 'This email is {}.'\n",
    "email = 'click this link for sale!'\n",
    "results = classifier(\n",
    "        email, labels, hypothesis_template=hypothesis_template\n",
    "    )"
   ]
  },
  {
   "cell_type": "code",
   "execution_count": 9,
   "id": "aaf1a2e3-394a-463a-bae1-9bf3d0010aa3",
   "metadata": {},
   "outputs": [
    {
     "data": {
      "text/plain": [
       "'not spam'"
      ]
     },
     "execution_count": 9,
     "metadata": {},
     "output_type": "execute_result"
    }
   ],
   "source": [
    "results['labels'][0]"
   ]
  },
  {
   "cell_type": "code",
   "execution_count": 26,
   "id": "c8443e06-cec5-41f9-9071-5a50b4fd2d8b",
   "metadata": {},
   "outputs": [],
   "source": [
    "from openai import OpenAI\n",
    "import pandas as pd\n",
    "\n",
    "# OpenAI API 키 설정\n",
    "api_key = config['openai_key']\n",
    "client = OpenAI(api_key=api_key)\n",
    "\n",
    "\n",
    "# 데이터\n",
    "data = {\n",
    "    \"PRODUCT ID\": [\"B001E4KFG0\", \"B00813GRG4\"],\n",
    "    \"USER ID\": [\"A3SGXH7AUHU8GW\", \"A1D87F6ZCVE5NK\"],\n",
    "    \"SCORE\": [5, 1],\n",
    "    \"SUMMARY\": [\"Good Quality Dog Food\", \"Not as Advertised\"],\n",
    "    \"TEXT\": [\n",
    "        \"I have bought several of the Vitality canned...\",\n",
    "        \"Product arrived labeled as Jumbo Salted Peanut...\"\n",
    "    ]\n",
    "}\n",
    "\n",
    "# DataFrame 생성\n",
    "df = pd.DataFrame(data)\n",
    "df[\"combined\"] = (\n",
    "    \"Title: \" + df.SUMMARY.str.strip() + \"; Content: \" + df.TEXT.str.strip()\n",
    ")\n",
    "\n",
    "\n",
    "def get_embedding(text, model=\"text-embedding-3-small\"):\n",
    "   text = text.replace(\"\\n\", \" \")\n",
    "   return client.embeddings.create(input = [text], model=model).data[0].embedding\n",
    "\n",
    "\n",
    "df['ada_embedding'] = df.combined.apply(lambda x: get_embedding(x, model='text-embedding-3-small'))\n",
    "\n",
    "\n",
    "# 여러 텍스트에 대한 임베딩 얻기\n",
    "embeddings = [get_embedding(text) for text in texts]\n",
    "\n",
    "# for text, embedding in zip(texts, embeddings):\n",
    "#     print(f\"Text: {text}\")\n",
    "#     print(f\"Embedding: {embedding}\")\n"
   ]
  },
  {
   "cell_type": "markdown",
   "id": "68eb6f68",
   "metadata": {},
   "source": [
    "### 사전 학습모델로 임베딩하기"
   ]
  },
  {
   "cell_type": "code",
   "execution_count": null,
   "id": "a6a42bfe",
   "metadata": {},
   "outputs": [],
   "source": [
    "from sentence_transformers import SentenceTransformer\n",
    "\n",
    "model = SentenceTransformer(\n",
    "    'sentence-transformers/multi-qa-mpnet-base-cos-v1'\n",
    ")\n",
    "\n",
    "docs =[\n",
    "    \"Around 9 million people live in London\",\n",
    "    \"London is known for its financial district\"\n",
    "]\n",
    "\n",
    "doc_emb = model.encode(\n",
    "    docs,\n",
    "    batch_size=32,\n",
    "    show_progress_bar=True\n",
    ")"
   ]
  },
  {
   "cell_type": "code",
   "execution_count": 53,
   "id": "42873003",
   "metadata": {},
   "outputs": [
    {
     "name": "stderr",
     "output_type": "stream",
     "text": [
      "100%|██████████| 428/428 [13:01<00:00,  1.83s/it]\n"
     ]
    }
   ],
   "source": [
    "import PyPDF2\n",
    "from tqdm import tqdm\n",
    "\n",
    "with open('./data/pds2.pdf', 'rb') as file:\n",
    "    reader = PyPDF2.PdfReader(file)\n",
    "\n",
    "    principles_of_ds = ''\n",
    "\n",
    "    for page in tqdm(reader.pages):\n",
    "        text = page.extract_text()\n",
    "\n",
    "        principles_of_ds += '\\n\\n' + text[text.find(' ]')+2:]\n",
    "\n",
    "principles_of_ds = principles_of_ds.strip()"
   ]
  },
  {
   "cell_type": "markdown",
   "id": "e4ec59ea",
   "metadata": {},
   "source": [
    "### 중첩을 포함하는 또는 포함하지 않는 교과서 분할하기"
   ]
  },
  {
   "cell_type": "code",
   "execution_count": 54,
   "id": "a63c38c4",
   "metadata": {},
   "outputs": [],
   "source": [
    "def overlapping_chunks(text, max_tokens = 500, overlapping_factor = 5):\n",
    "    '''\n",
    "    max_tokens: 각 조강에 들어갈 최대 토큰 수\n",
    "    overlapping_factor: 각 조각이 시작할 때 이전 청크와 중첩되는 문장의 숫자\n",
    "    '''\n",
    "\n",
    "    # Split the text using punctuation\n",
    "    sentences = re.split(r' *[\\.\\?!][\\'\"\\)\\]]* *', text)\n",
    "\n",
    "    #BERT로 token화 -> 사전 학습된 언어 모델의 어휘(vocabulary)에 매핑,  각 숫자는 텍스트의 특정 단어 또는 하위 단어(subword)에 해당\n",
    "    # 각 문장의 토큰 수 얻기\n",
    "    n_tokens = [len(tokenizer.encode(\" \" + sentence)) for sentence in sentences]\n",
    "\n",
    "    chunks, tokens_so_far, chunk = [], 0, []\n",
    "\n",
    "    # 튜플로 결합된 문장과 토큰을 반복해서 처리하기\n",
    "    for sentence, token in zip(sentences, n_tokens):\n",
    "        if tokens_so_far + token > max_tokens:\n",
    "            #max_token수를 넘기면 chunk들을 paste 후 chunks 목록에 추가하기\n",
    "            #chunk 리셋\n",
    "            chunks.append(\". \".join(chunk) + \".\")\n",
    "            if overlapping_factor > 0:\n",
    "                chunk = chunk[-overlapping_factor:]\n",
    "                tokens_so_far = sum([len(tokenizer.encode(c)) for c in chunk])\n",
    "            else:\n",
    "                chunk = []\n",
    "                tokens_so_far = 0\n",
    "        \n",
    "        if token > max_tokens:\n",
    "            continue\n",
    "\n",
    "        chunk.append(sentence)\n",
    "        tokens_so_far += token + 1\n",
    "\n",
    "    if chunk:\n",
    "        chunks.append(\". \".join(chunk) + \".\")\n",
    "    \n",
    "    return chunks\n"
   ]
  },
  {
   "cell_type": "code",
   "execution_count": 56,
   "id": "cd6db66e",
   "metadata": {},
   "outputs": [],
   "source": [
    "split = overlapping_chunks(principles_of_ds, overlapping_factor=0)\n",
    "avg_length =sum([len(tokenizer.encode(t)) for t in split]) / len(split)"
   ]
  },
  {
   "cell_type": "code",
   "execution_count": 57,
   "id": "ff5a148a",
   "metadata": {},
   "outputs": [
    {
     "name": "stdout",
     "output_type": "stream",
     "text": [
      "non-overlapping chunking approach has 299 documents with average length 443.0 tokens\n"
     ]
    }
   ],
   "source": [
    "print(f'non-overlapping chunking approach has {len(split)} documents with average length {avg_length:.1f} tokens')"
   ]
  },
  {
   "cell_type": "code",
   "execution_count": 59,
   "id": "dff04dd0",
   "metadata": {},
   "outputs": [],
   "source": [
    "split = overlapping_chunks(principles_of_ds, overlapping_factor=5)\n",
    "avg_length =sum([len(tokenizer.encode(t)) for t in split]) / len(split)"
   ]
  },
  {
   "cell_type": "code",
   "execution_count": 60,
   "id": "ae0d1128",
   "metadata": {},
   "outputs": [
    {
     "name": "stdout",
     "output_type": "stream",
     "text": [
      "overlapping chunking approach has 420 documents with average length 451.4 tokens\n"
     ]
    }
   ],
   "source": [
    "print(f'overlapping chunking approach has {len(split)} documents with average length {avg_length:.1f} tokens')"
   ]
  },
  {
   "cell_type": "markdown",
   "id": "6cd1337e",
   "metadata": {},
   "source": [
    "### 감정 훈련 데이터를 위한 JSONL 파일 생성"
   ]
  },
  {
   "cell_type": "code",
   "execution_count": 1,
   "id": "cd501805",
   "metadata": {},
   "outputs": [],
   "source": [
    "from datasets import load_dataset\n",
    "import pandas as pd\n",
    "\n",
    "# 아마존 리뷰 다중 언어 데이터셋을 로드\n",
    "# dataset = load_dataset(\"amazon_reviews_multi\", \"all_languages\")\n",
    "dataset = load_dataset('amazon_polarity')\n",
    "\n",
    "#데이터셋의 'train' 서브셋을 pandas DataFrame\n",
    "training_df = pd.DataFrame(dataset['train'])"
   ]
  },
  {
   "cell_type": "code",
   "execution_count": 14,
   "id": "00167d89",
   "metadata": {},
   "outputs": [],
   "source": [
    "training_df_s = training_df.head()"
   ]
  },
  {
   "cell_type": "code",
   "execution_count": 15,
   "id": "6b2635ee-4854-4bb9-8527-56e95e409fb7",
   "metadata": {},
   "outputs": [
    {
     "data": {
      "text/html": [
       "<div>\n",
       "<style scoped>\n",
       "    .dataframe tbody tr th:only-of-type {\n",
       "        vertical-align: middle;\n",
       "    }\n",
       "\n",
       "    .dataframe tbody tr th {\n",
       "        vertical-align: top;\n",
       "    }\n",
       "\n",
       "    .dataframe thead th {\n",
       "        text-align: right;\n",
       "    }\n",
       "</style>\n",
       "<table border=\"1\" class=\"dataframe\">\n",
       "  <thead>\n",
       "    <tr style=\"text-align: right;\">\n",
       "      <th></th>\n",
       "      <th>label</th>\n",
       "      <th>title</th>\n",
       "      <th>content</th>\n",
       "    </tr>\n",
       "  </thead>\n",
       "  <tbody>\n",
       "    <tr>\n",
       "      <th>0</th>\n",
       "      <td>1</td>\n",
       "      <td>Stuning even for the non-gamer</td>\n",
       "      <td>This sound track was beautiful! It paints the ...</td>\n",
       "    </tr>\n",
       "    <tr>\n",
       "      <th>1</th>\n",
       "      <td>1</td>\n",
       "      <td>The best soundtrack ever to anything.</td>\n",
       "      <td>I'm reading a lot of reviews saying that this ...</td>\n",
       "    </tr>\n",
       "    <tr>\n",
       "      <th>2</th>\n",
       "      <td>1</td>\n",
       "      <td>Amazing!</td>\n",
       "      <td>This soundtrack is my favorite music of all ti...</td>\n",
       "    </tr>\n",
       "    <tr>\n",
       "      <th>3</th>\n",
       "      <td>1</td>\n",
       "      <td>Excellent Soundtrack</td>\n",
       "      <td>I truly like this soundtrack and I enjoy video...</td>\n",
       "    </tr>\n",
       "    <tr>\n",
       "      <th>4</th>\n",
       "      <td>1</td>\n",
       "      <td>Remember, Pull Your Jaw Off The Floor After He...</td>\n",
       "      <td>If you've played the game, you know how divine...</td>\n",
       "    </tr>\n",
       "  </tbody>\n",
       "</table>\n",
       "</div>"
      ],
      "text/plain": [
       "   label                                              title  \\\n",
       "0      1                     Stuning even for the non-gamer   \n",
       "1      1              The best soundtrack ever to anything.   \n",
       "2      1                                           Amazing!   \n",
       "3      1                               Excellent Soundtrack   \n",
       "4      1  Remember, Pull Your Jaw Off The Floor After He...   \n",
       "\n",
       "                                             content  \n",
       "0  This sound track was beautiful! It paints the ...  \n",
       "1  I'm reading a lot of reviews saying that this ...  \n",
       "2  This soundtrack is my favorite music of all ti...  \n",
       "3  I truly like this soundtrack and I enjoy video...  \n",
       "4  If you've played the game, you know how divine...  "
      ]
     },
     "execution_count": 15,
     "metadata": {},
     "output_type": "execute_result"
    }
   ],
   "source": [
    "training_df_s"
   ]
  },
  {
   "cell_type": "code",
   "execution_count": 16,
   "id": "5848ac4e",
   "metadata": {},
   "outputs": [
    {
     "name": "stderr",
     "output_type": "stream",
     "text": [
      "C:\\Users\\User\\AppData\\Local\\Temp\\ipykernel_7616\\1335550975.py:5: SettingWithCopyWarning: \n",
      "A value is trying to be set on a copy of a slice from a DataFrame.\n",
      "Try using .loc[row_indexer,col_indexer] = value instead\n",
      "\n",
      "See the caveats in the documentation: https://pandas.pydata.org/pandas-docs/stable/user_guide/indexing.html#returning-a-view-versus-a-copy\n",
      "  df['prompt'] = df['title'] + '\\n\\n' + df['content'] + '\\n\\n###\\n\\n'\n",
      "C:\\Users\\User\\AppData\\Local\\Temp\\ipykernel_7616\\1335550975.py:8: SettingWithCopyWarning: \n",
      "A value is trying to be set on a copy of a slice from a DataFrame.\n",
      "Try using .loc[row_indexer,col_indexer] = value instead\n",
      "\n",
      "See the caveats in the documentation: https://pandas.pydata.org/pandas-docs/stable/user_guide/indexing.html#returning-a-view-versus-a-copy\n",
      "  df['completion'] = ' ' + df['label'].astype(str)\n",
      "C:\\Users\\User\\AppData\\Local\\Temp\\ipykernel_7616\\1335550975.py:13: SettingWithCopyWarning: \n",
      "A value is trying to be set on a copy of a slice from a DataFrame\n",
      "\n",
      "See the caveats in the documentation: https://pandas.pydata.org/pandas-docs/stable/user_guide/indexing.html#returning-a-view-versus-a-copy\n",
      "  english_df.drop_duplicates(subset=['prompt'], inplace=True)\n"
     ]
    }
   ],
   "source": [
    "def prepare_df_for_openai(df):\n",
    "    \n",
    "    # 'reviw_title' 과 'review_body' 열을 결합하고,\n",
    "    # 끝에 맞춤형 접미사 '\\n\\n###\\n\\n'를 추가하여 'prompt'열을 생성\n",
    "    df['prompt'] = df['title'] + '\\n\\n' + df['content'] + '\\n\\n###\\n\\n'\n",
    "\n",
    "    # 'stars' 값 앞에 공백을 추가함으로써 새로운 'completion' 열을 생성\n",
    "    df['completion'] = ' ' + df['label'].astype(str)\n",
    "\n",
    "    english_df = df\n",
    "\n",
    "    # 'prompt' 열을 기준으로 중복 행을 제거\n",
    "    english_df.drop_duplicates(subset=['prompt'], inplace=True)\n",
    "\n",
    "    return english_df[['prompt', 'completion']].sample(len(english_df))\n",
    "    \n",
    "english_training_df = prepare_df_for_openai(training_df_s)\n",
    "\n",
    "english_training_df.to_json(\"amazon-english-full-train-sentiment.jsonl\", orient='records', lines=True)\n"
   ]
  },
  {
   "cell_type": "markdown",
   "id": "36411111",
   "metadata": {},
   "source": [
    "### OpenAI API로부터 토큰 확률 얻기"
   ]
  },
  {
   "cell_type": "code",
   "execution_count": 21,
   "id": "ac32a303-51eb-45e1-919b-673a6cbe11b8",
   "metadata": {},
   "outputs": [],
   "source": [
    "test_df = pd.DataFrame(dataset['test'])"
   ]
  },
  {
   "cell_type": "code",
   "execution_count": 22,
   "id": "faab840d-1bb4-45d7-8b43-36184abbfa1f",
   "metadata": {},
   "outputs": [],
   "source": [
    "english_test_df = prepare_df_for_openai(test_df)"
   ]
  },
  {
   "cell_type": "code",
   "execution_count": 80,
   "id": "d2b9b44d",
   "metadata": {},
   "outputs": [],
   "source": [
    "import math\n",
    "from openai import OpenAI\n",
    "import pandas as pd\n",
    "\n",
    "# OpenAI API 키 설정\n",
    "api_key = config['openai_key']\n",
    "client = OpenAI(api_key=api_key)\n",
    "\n",
    "\n",
    "\n",
    "# 샘플 프롬프트 가져오기\n",
    "prompt = english_test_df['prompt'].sample(1).iloc[0]\n",
    "\n",
    "# 파인튜닝된 모델을 사용하여 완성본 생성하기\n",
    "response = client.chat.completions.create(\n",
    "    # model='ada:ft-personal-2023-03-31-05-30-46',\n",
    "    model= 'gpt-3.5-turbo',\n",
    "    messages=[\n",
    "        {\"role\": \"system\", \"content\": \"You are a helpful assistant.\"},\n",
    "        {\"role\": \"user\", \"content\": prompt}\n",
    "    ],\n",
    "    max_tokens=1,\n",
    "    temperature=0,\n",
    "    logprobs=True\n",
    ")\n",
    "\n",
    "\n",
    "# 결과 처리\n",
    "probs = []\n",
    "logprobs = response.choices[0].logprobs.content[0].top_logprobs\n",
    "    \n",
    "for logprob in logprobs:\n",
    "    _probs = {}\n",
    "    for key, value in logprob.items():\n",
    "        _probs[key] = math.exp(value)\n",
    "    probs.append(_probs)\n",
    "\n",
    "\n",
    "\n",
    "\n"
   ]
  }
 ],
 "metadata": {
  "kernelspec": {
   "display_name": "Python 3 (ipykernel)",
   "language": "python",
   "name": "python3"
  },
  "language_info": {
   "codemirror_mode": {
    "name": "ipython",
    "version": 3
   },
   "file_extension": ".py",
   "mimetype": "text/x-python",
   "name": "python",
   "nbconvert_exporter": "python",
   "pygments_lexer": "ipython3",
   "version": "3.9.18"
  }
 },
 "nbformat": 4,
 "nbformat_minor": 5
}
