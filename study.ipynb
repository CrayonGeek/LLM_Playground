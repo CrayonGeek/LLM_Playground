{
 "cells": [
  {
   "cell_type": "markdown",
   "id": "ddcbf510",
   "metadata": {},
   "source": [
    "### MARKDOWN\n"
   ]
  },
  {
   "cell_type": "code",
   "execution_count": 9,
   "id": "5ae7601d",
   "metadata": {},
   "outputs": [],
   "source": [
    "# 테이블 설정 로드\n",
    "from omegaconf import OmegaConf\n",
    "config = OmegaConf.load(\"config/credentials.yml\")"
   ]
  },
  {
   "cell_type": "code",
   "execution_count": 2,
   "id": "e9a607a4-c0aa-4117-8a76-616b70d95c66",
   "metadata": {},
   "outputs": [],
   "source": [
    "#\n",
    "from transformers import pipeline\n",
    "classifier = pipeline('zero-shot-classification', model='facebook/bart-large-mnli')\n",
    "\n",
    "labels = ['spam', 'not spam']\n",
    "hypothesis_template = 'This email is {}.'\n",
    "email = 'click this link for sale!'\n",
    "results = classifier(\n",
    "        email, labels, hypothesis_template=hypothesis_template\n",
    "    )"
   ]
  },
  {
   "cell_type": "code",
   "execution_count": 9,
   "id": "aaf1a2e3-394a-463a-bae1-9bf3d0010aa3",
   "metadata": {},
   "outputs": [
    {
     "data": {
      "text/plain": [
       "'not spam'"
      ]
     },
     "execution_count": 9,
     "metadata": {},
     "output_type": "execute_result"
    }
   ],
   "source": [
    "results['labels'][0]"
   ]
  },
  {
   "cell_type": "code",
   "execution_count": 26,
   "id": "c8443e06-cec5-41f9-9071-5a50b4fd2d8b",
   "metadata": {},
   "outputs": [],
   "source": [
    "from openai import OpenAI\n",
    "import pandas as pd\n",
    "\n",
    "# OpenAI API 키 설정\n",
    "api_key = config['openai_key']\n",
    "client = OpenAI(api_key=api_key)\n",
    "\n",
    "\n",
    "# 데이터\n",
    "data = {\n",
    "    \"PRODUCT ID\": [\"B001E4KFG0\", \"B00813GRG4\"],\n",
    "    \"USER ID\": [\"A3SGXH7AUHU8GW\", \"A1D87F6ZCVE5NK\"],\n",
    "    \"SCORE\": [5, 1],\n",
    "    \"SUMMARY\": [\"Good Quality Dog Food\", \"Not as Advertised\"],\n",
    "    \"TEXT\": [\n",
    "        \"I have bought several of the Vitality canned...\",\n",
    "        \"Product arrived labeled as Jumbo Salted Peanut...\"\n",
    "    ]\n",
    "}\n",
    "\n",
    "# DataFrame 생성\n",
    "df = pd.DataFrame(data)\n",
    "df[\"combined\"] = (\n",
    "    \"Title: \" + df.SUMMARY.str.strip() + \"; Content: \" + df.TEXT.str.strip()\n",
    ")\n",
    "\n",
    "\n",
    "def get_embedding(text, model=\"text-embedding-3-small\"):\n",
    "   text = text.replace(\"\\n\", \" \")\n",
    "   return client.embeddings.create(input = [text], model=model).data[0].embedding\n",
    "\n",
    "\n",
    "df['ada_embedding'] = df.combined.apply(lambda x: get_embedding(x, model='text-embedding-3-small'))\n",
    "\n",
    "\n",
    "# 여러 텍스트에 대한 임베딩 얻기\n",
    "embeddings = [get_embedding(text) for text in texts]\n",
    "\n",
    "# for text, embedding in zip(texts, embeddings):\n",
    "#     print(f\"Text: {text}\")\n",
    "#     print(f\"Embedding: {embedding}\")\n"
   ]
  },
  {
   "cell_type": "markdown",
   "id": "68eb6f68",
   "metadata": {},
   "source": [
    "### 사전 학습모델로 임베딩하기"
   ]
  },
  {
   "cell_type": "code",
   "execution_count": null,
   "id": "a6a42bfe",
   "metadata": {},
   "outputs": [],
   "source": [
    "from sentence_transformers import SentenceTransformer\n",
    "\n",
    "model = SentenceTransformer(\n",
    "    'sentence-transformers/multi-qa-mpnet-base-cos-v1'\n",
    ")\n",
    "\n",
    "docs =[\n",
    "    \"Around 9 million people live in London\",\n",
    "    \"London is known for its financial district\"\n",
    "]\n",
    "\n",
    "doc_emb = model.encode(\n",
    "    docs,\n",
    "    batch_size=32,\n",
    "    show_progress_bar=True\n",
    ")"
   ]
  },
  {
   "cell_type": "code",
   "execution_count": 53,
   "id": "42873003",
   "metadata": {},
   "outputs": [
    {
     "name": "stderr",
     "output_type": "stream",
     "text": [
      "100%|██████████| 428/428 [13:01<00:00,  1.83s/it]\n"
     ]
    }
   ],
   "source": [
    "import PyPDF2\n",
    "from tqdm import tqdm\n",
    "\n",
    "with open('./data/pds2.pdf', 'rb') as file:\n",
    "    reader = PyPDF2.PdfReader(file)\n",
    "\n",
    "    principles_of_ds = ''\n",
    "\n",
    "    for page in tqdm(reader.pages):\n",
    "        text = page.extract_text()\n",
    "\n",
    "        principles_of_ds += '\\n\\n' + text[text.find(' ]')+2:]\n",
    "\n",
    "principles_of_ds = principles_of_ds.strip()"
   ]
  },
  {
   "cell_type": "markdown",
   "id": "e4ec59ea",
   "metadata": {},
   "source": [
    "### 중첩을 포함하는 또는 포함하지 않는 교과서 분할하기"
   ]
  },
  {
   "cell_type": "code",
   "execution_count": 54,
   "id": "a63c38c4",
   "metadata": {},
   "outputs": [],
   "source": [
    "def overlapping_chunks(text, max_tokens = 500, overlapping_factor = 5):\n",
    "    '''\n",
    "    max_tokens: 각 조강에 들어갈 최대 토큰 수\n",
    "    overlapping_factor: 각 조각이 시작할 때 이전 청크와 중첩되는 문장의 숫자\n",
    "    '''\n",
    "\n",
    "    # Split the text using punctuation\n",
    "    sentences = re.split(r' *[\\.\\?!][\\'\"\\)\\]]* *', text)\n",
    "\n",
    "    #BERT로 token화 -> 사전 학습된 언어 모델의 어휘(vocabulary)에 매핑,  각 숫자는 텍스트의 특정 단어 또는 하위 단어(subword)에 해당\n",
    "    # 각 문장의 토큰 수 얻기\n",
    "    n_tokens = [len(tokenizer.encode(\" \" + sentence)) for sentence in sentences]\n",
    "\n",
    "    chunks, tokens_so_far, chunk = [], 0, []\n",
    "\n",
    "    # 튜플로 결합된 문장과 토큰을 반복해서 처리하기\n",
    "    for sentence, token in zip(sentences, n_tokens):\n",
    "        if tokens_so_far + token > max_tokens:\n",
    "            #max_token수를 넘기면 chunk들을 paste 후 chunks 목록에 추가하기\n",
    "            #chunk 리셋\n",
    "            chunks.append(\". \".join(chunk) + \".\")\n",
    "            if overlapping_factor > 0:\n",
    "                chunk = chunk[-overlapping_factor:]\n",
    "                tokens_so_far = sum([len(tokenizer.encode(c)) for c in chunk])\n",
    "            else:\n",
    "                chunk = []\n",
    "                tokens_so_far = 0\n",
    "        \n",
    "        if token > max_tokens:\n",
    "            continue\n",
    "\n",
    "        chunk.append(sentence)\n",
    "        tokens_so_far += token + 1\n",
    "\n",
    "    if chunk:\n",
    "        chunks.append(\". \".join(chunk) + \".\")\n",
    "    \n",
    "    return chunks\n"
   ]
  },
  {
   "cell_type": "code",
   "execution_count": 56,
   "id": "cd6db66e",
   "metadata": {},
   "outputs": [],
   "source": [
    "split = overlapping_chunks(principles_of_ds, overlapping_factor=0)\n",
    "avg_length =sum([len(tokenizer.encode(t)) for t in split]) / len(split)"
   ]
  },
  {
   "cell_type": "code",
   "execution_count": 57,
   "id": "ff5a148a",
   "metadata": {},
   "outputs": [
    {
     "name": "stdout",
     "output_type": "stream",
     "text": [
      "non-overlapping chunking approach has 299 documents with average length 443.0 tokens\n"
     ]
    }
   ],
   "source": [
    "print(f'non-overlapping chunking approach has {len(split)} documents with average length {avg_length:.1f} tokens')"
   ]
  },
  {
   "cell_type": "code",
   "execution_count": 59,
   "id": "dff04dd0",
   "metadata": {},
   "outputs": [],
   "source": [
    "split = overlapping_chunks(principles_of_ds, overlapping_factor=5)\n",
    "avg_length =sum([len(tokenizer.encode(t)) for t in split]) / len(split)"
   ]
  },
  {
   "cell_type": "code",
   "execution_count": 60,
   "id": "ae0d1128",
   "metadata": {},
   "outputs": [
    {
     "name": "stdout",
     "output_type": "stream",
     "text": [
      "overlapping chunking approach has 420 documents with average length 451.4 tokens\n"
     ]
    }
   ],
   "source": [
    "print(f'overlapping chunking approach has {len(split)} documents with average length {avg_length:.1f} tokens')"
   ]
  }
 ],
 "metadata": {
  "kernelspec": {
   "display_name": "llm_pj",
   "language": "python",
   "name": "python3"
  },
  "language_info": {
   "codemirror_mode": {
    "name": "ipython",
    "version": 3
   },
   "file_extension": ".py",
   "mimetype": "text/x-python",
   "name": "python",
   "nbconvert_exporter": "python",
   "pygments_lexer": "ipython3",
   "version": "3.9.18"
  }
 },
 "nbformat": 4,
 "nbformat_minor": 5
}
